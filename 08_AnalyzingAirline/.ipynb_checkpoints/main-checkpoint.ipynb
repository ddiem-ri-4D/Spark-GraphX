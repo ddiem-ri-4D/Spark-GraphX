{
 "cells": [
  {
   "cell_type": "markdown",
   "metadata": {},
   "source": [
    "* Ở phần này, nhóm sẽ thực hiện phân tích dựa trên dữ liệu sân bay Hoa Kỳ.\n",
    "* Nhóm sẽ thực hiện phân tích các chuyến bay và xem xét sự chậm trễ của các hãng hàng không.\n",
    "* Bây giờ, nhóm sẽ thực hiện phân tích các chuyến bay. "
   ]
  },
  {
   "cell_type": "code",
   "execution_count": 1,
   "metadata": {},
   "outputs": [],
   "source": [
    "from graphframes.lib import AggregateMessages as AM\n",
    "from pyspark.sql import functions as F\n",
    "from pyspark.sql import SparkSession\n",
    "from pyspark.sql.types import *\n",
    "from pyspark import SparkContext\n",
    "from graphframes import *\n",
    "from operator import itemgetter\n",
    "import matplotlib.pyplot as plt\n",
    "import networkx as nx\n",
    "import findspark\n",
    "import pandas as pd\n",
    "from bokeh.plotting import *\n",
    "import csv\n",
    "\n",
    "findspark.init()"
   ]
  },
  {
   "cell_type": "code",
   "execution_count": 2,
   "metadata": {},
   "outputs": [],
   "source": [
    "def plotGraph(url, name):\n",
    "    from bokeh.sampledata import us_states\n",
    "    us_states = us_states.data.copy()\n",
    "\n",
    "    del us_states[\"HI\"]\n",
    "    del us_states[\"AK\"]\n",
    "\n",
    "    # đọc vĩ độ và kinh độ của Hoa Kỳ vào mảng\n",
    "    state_xs = [us_states[code][\"lons\"] for code in us_states]\n",
    "    state_ys = [us_states[code][\"lats\"] for code in us_states]\n",
    "\n",
    "    # khởi tạo đối tượng figure\n",
    "    p = figure(title=\"US Airports\",\n",
    "            toolbar_location=\"left\", plot_width=1100, plot_height=700)\n",
    "\n",
    "    # vẽ vĩ độ và kinh độ lên figure\n",
    "    p.patches(state_xs, state_ys, fill_alpha=0.0, line_color=\"#884444\", line_width=1.5)\n",
    "\n",
    "    x = []\n",
    "    y =[]\n",
    "    \n",
    "    # load các điểm sân bay vào mảng\n",
    "    with open(url, \"r\") as latlongs_file:\n",
    "        reader = csv.reader(latlongs_file, delimiter=\",\")\n",
    "        for row in reader:\n",
    "            x.append(float(row[3]))\n",
    "            y.append(float(row[2]))\n",
    "\n",
    "    # vẽ các scatter figure\n",
    "    p.circle(x, y, size=6, color='navy', alpha=1)\n",
    "\n",
    "    # export ra file csv\n",
    "    output_file(name + \".html\")\n",
    "\n",
    "    # hiển thị kết quả\n",
    "    show(p)"
   ]
  },
  {
   "cell_type": "code",
   "execution_count": 3,
   "metadata": {},
   "outputs": [
    {
     "name": "stderr",
     "output_type": "stream",
     "text": [
      "22/01/23 08:42:23 WARN Utils: Your hostname, Rose resolves to a loopback address: 127.0.1.1; using 192.168.1.14 instead (on interface enp3s0)\n",
      "22/01/23 08:42:23 WARN Utils: Set SPARK_LOCAL_IP if you need to bind to another address\n",
      "WARNING: An illegal reflective access operation has occurred\n",
      "WARNING: Illegal reflective access by org.apache.spark.unsafe.Platform (file:/opt/spark-3.0.3/jars/spark-unsafe_2.12-3.0.3.jar) to constructor java.nio.DirectByteBuffer(long,int)\n",
      "WARNING: Please consider reporting this to the maintainers of org.apache.spark.unsafe.Platform\n",
      "WARNING: Use --illegal-access=warn to enable warnings of further illegal reflective access operations\n",
      "WARNING: All illegal access operations will be denied in a future release\n",
      "22/01/23 08:42:23 WARN NativeCodeLoader: Unable to load native-hadoop library for your platform... using builtin-java classes where applicable\n",
      "Using Spark's default log4j profile: org/apache/spark/log4j-defaults.properties\n",
      "Setting default log level to \"WARN\".\n",
      "To adjust logging level use sc.setLogLevel(newLevel). For SparkR, use setLogLevel(newLevel).\n"
     ]
    }
   ],
   "source": [
    "spark = SparkSession.builder.appName(\"PageRank\").getOrCreate()\n",
    "sc = spark.sparkContext"
   ]
  },
  {
   "cell_type": "markdown",
   "metadata": {},
   "source": [
    "* Trước tiên, ta sẽ đọc tập dữ liệu chứa các thông tin về sân bay.\n",
    "* Ta sẽ chỉ lấy các thông tin về:\n",
    "  * `name`: tên sân bay.\n",
    "  * `id`: mã sân bay.\n",
    "  * `latitude`: vĩ độ.\n",
    "  * `longitude`: kinh độ."
   ]
  },
  {
   "cell_type": "code",
   "execution_count": 4,
   "metadata": {},
   "outputs": [],
   "source": [
    "nodes = spark.read.csv(\"data/airports.csv\", header=False)"
   ]
  },
  {
   "cell_type": "markdown",
   "metadata": {},
   "source": [
    "* Tiến hành đặt lại tên các cột và lọc, ở đây ta chỉ quan tâm các chuyến bay của quốc gia **United States**."
   ]
  },
  {
   "cell_type": "code",
   "execution_count": 5,
   "metadata": {},
   "outputs": [
    {
     "name": "stdout",
     "output_type": "stream",
     "text": [
      "+--------------------+---+------------------+-------------------+\n",
      "|                name| id|          latitude|          longitude|\n",
      "+--------------------+---+------------------+-------------------+\n",
      "|Barter Island LRR...|BTI|     70.1340026855|     -143.582000732|\n",
      "|Cape Lisburne LRR...|LUR|       68.87509918|       -166.1100006|\n",
      "|Point Lay LRRS Ai...|PIZ|       69.73290253|       -163.0050049|\n",
      "|Hilo Internationa...|ITO|19.721399307250977|-155.04800415039062|\n",
      "|Orlando Executive...|ORL|   28.545499801636|   -81.332901000977|\n",
      "|     Bettles Airport|BTT|       66.91390228|        -151.529007|\n",
      "|       Clear Airport|Z84|         64.301201|        -149.119995|\n",
      "|Indian Mountain L...|UTO|       65.99279785|       -153.7039948|\n",
      "|  Fort Yukon Airport|FYU| 66.57150268554688|            -145.25|\n",
      "|Sparrevohn LRRS A...|SVW|       61.09740067|       -155.5740051|\n",
      "|Bryant Army Heliport|FRN|       61.26639938|       -149.6529999|\n",
      "|Tatalina LRRS Air...|TLJ|62.894401550299996|     -155.977005005|\n",
      "|Cape Romanzof LRR...|CZF|       61.78030014|       -166.0390015|\n",
      "|Laurence G Hansco...|BED|       42.47000122|       -71.28900146|\n",
      "|St Paul Island Ai...|SNP|57.167301177978516|-170.22000122070312|\n",
      "|Cape Newenham LRR...|EHM|58.646400451699996|      -162.06300354|\n",
      "|   St George Airport|STG|56.578300476100004|     -169.662002563|\n",
      "|     Iliamna Airport|ILI|       59.75439835|       -154.9109955|\n",
      "|    Platinum Airport|PTU| 59.01139831542969|-161.82000732421875|\n",
      "|Big Mountain Airport|BMX|     59.3611984253|     -155.259002686|\n",
      "+--------------------+---+------------------+-------------------+\n",
      "only showing top 20 rows\n",
      "\n"
     ]
    }
   ],
   "source": [
    "cleaned_nodes = (nodes.select(\"_c1\", \"_c3\", \"_c4\", \"_c6\", \"_c7\")\n",
    "                 .filter(\"_c3 = 'United States'\")\n",
    "                 .withColumnRenamed(\"_c1\", \"name\")\n",
    "                 .withColumnRenamed(\"_c4\", \"id\")\n",
    "                 .withColumnRenamed(\"_c6\", \"latitude\")\n",
    "                 .withColumnRenamed(\"_c7\", \"longitude\")\n",
    "                 .drop(\"_c3\"))\n",
    "cleaned_nodes = cleaned_nodes[cleaned_nodes[\"id\"] != \"\\\\N\"]\n",
    "\n",
    "\n",
    "cleaned_nodes.show()"
   ]
  },
  {
   "cell_type": "markdown",
   "metadata": {},
   "source": [
    "* Tiếp theo, ta sẽ đọc tập dữ liệu chứa thông tin về các chuyến bay."
   ]
  },
  {
   "cell_type": "code",
   "execution_count": 6,
   "metadata": {},
   "outputs": [],
   "source": [
    "relationships = spark.read.csv(\"data/188591317_T_ONTIME.csv\", header=True)"
   ]
  },
  {
   "cell_type": "code",
   "execution_count": 7,
   "metadata": {},
   "outputs": [
    {
     "name": "stderr",
     "output_type": "stream",
     "text": [
      "22/01/23 08:42:31 WARN package: Truncated the string representation of a plan since it was too large. This behavior can be adjusted by setting 'spark.sql.debug.maxToStringFields'.\n"
     ]
    },
    {
     "name": "stdout",
     "output_type": "stream",
     "text": [
      "+---+---+----------+---------+--------+--------+----------+------------+----+-----------+-------+\n",
      "|src|dst|      date|deptDelay|arrDelay|distance|tailNumber|flightNumber|time|arrivalTime|airline|\n",
      "+---+---+----------+---------+--------+--------+----------+------------+----+-----------+-------+\n",
      "|ATL|SLC|2018-05-01|     -1.0|    -3.0| 1590.00|     N6709|          15|1920|       2120|     DL|\n",
      "|LAS|DTW|2018-05-01|      7.0|    -2.0| 1749.00|    N820DN|          16|1400|       2102|     DL|\n",
      "|DTW|LAS|2018-05-01|     -4.0|    23.0| 1749.00|    N856DN|          17|1757|       1915|     DL|\n",
      "|MSP|DTW|2018-05-01|     -6.0|   -13.0|  528.00|    N329NB|          22|1335|       1615|     DL|\n",
      "|DTW|MSP|2018-05-01|      6.0|     6.0|  528.00|    N697DL|          23|1556|       1650|     DL|\n",
      "|SAN|ATL|2018-05-01|     -2.0|   -18.0| 1892.00|    N323DN|          30| 745|       1458|     DL|\n",
      "|ATL|DFW|2018-05-01|     -3.0|    -6.0|  731.00|    N901DE|          31|1938|       2102|     DL|\n",
      "|DFW|ATL|2018-05-01|     16.0|     2.0|  731.00|    N958DL|          32|1720|       2028|     DL|\n",
      "|ATL|SAN|2018-05-01|     -3.0|   -12.0| 1892.00|    N338DN|          33|2110|       2255|     DL|\n",
      "|ANC|SEA|2018-05-01|     -8.0|   -29.0| 1448.00|    N3745B|          34| 600|       1027|     DL|\n",
      "|PHL|SLC|2018-05-01|     -7.0|    -7.0| 1927.00|    N3732J|          37|1650|       1945|     DL|\n",
      "|SEA|ATL|2018-05-01|     -1.0|     8.0| 2182.00|    N588NW|          38|1128|       1915|     DL|\n",
      "|ATL|SEA|2018-05-01|     -4.0|    -7.0| 2182.00|    N541US|          39| 941|       1159|     DL|\n",
      "|MSP|JFK|2018-05-01|     -4.0|     1.0| 1029.00|    N348NB|          42|1425|       1804|     DL|\n",
      "|JFK|MSP|2018-05-01|     -7.0|   -11.0| 1029.00|    N316NB|          43|1600|       1820|     DL|\n",
      "|JFK|MCO|2018-05-01|     -7.0|   -21.0|  944.00|    N883DN|          45|1600|       1904|     DL|\n",
      "|AUS|JFK|2018-05-01|     -5.0|   -13.0| 1521.00|    N360NW|          46| 800|       1247|     DL|\n",
      "|MIA|JFK|2018-05-01|     -7.0|   -10.0| 1089.00|    N347NB|          48|1533|       1841|     DL|\n",
      "|SLC|OAK|2018-05-01|     -3.0|   -15.0|  588.00|    N963DN|          51|1511|       1610|     DL|\n",
      "|DTW|MSP|2018-05-01|     -4.0|   -13.0|  528.00|    N881DN|          52| 955|       1045|     DL|\n",
      "+---+---+----------+---------+--------+--------+----------+------------+----+-----------+-------+\n",
      "only showing top 20 rows\n",
      "\n"
     ]
    }
   ],
   "source": [
    "cleaned_relationships = (relationships\n",
    "                         .select(\"ORIGIN\", \"DEST\", \"FL_DATE\", \"DEP_DELAY\",\n",
    "                                 \"ARR_DELAY\", \"DISTANCE\", \"TAIL_NUM\", \"FL_NUM\",\n",
    "                                 \"CRS_DEP_TIME\", \"CRS_ARR_TIME\", \"UNIQUE_CARRIER\")\n",
    "                         .withColumnRenamed(\"ORIGIN\", \"src\")\n",
    "                         .withColumnRenamed(\"DEST\", \"dst\")\n",
    "                         .withColumnRenamed(\"DEP_DELAY\", \"deptDelay\")\n",
    "                         .withColumnRenamed(\"ARR_DELAY\", \"arrDelay\")\n",
    "                         .withColumnRenamed(\"TAIL_NUM\", \"tailNumber\")\n",
    "                         .withColumnRenamed(\"FL_NUM\", \"flightNumber\")\n",
    "                         .withColumnRenamed(\"FL_DATE\", \"date\")\n",
    "                         .withColumnRenamed(\"CRS_DEP_TIME\", \"time\")\n",
    "                         .withColumnRenamed(\"CRS_ARR_TIME\", \"arrivalTime\")\n",
    "                         .withColumnRenamed(\"DISTANCE\", \"distance\")\n",
    "                         .withColumnRenamed(\"UNIQUE_CARRIER\", \"airline\")\n",
    "                         .withColumn(\"deptDelay\", F.col(\"deptDelay\").cast(FloatType()))\n",
    "                         .withColumn(\"arrDelay\", F.col(\"arrDelay\").cast(FloatType()))\n",
    "                         .withColumn(\"time\", F.col(\"time\").cast(IntegerType()))\n",
    "                         .withColumn(\"arrivalTime\", F.col(\"arrivalTime\").cast(IntegerType())))\n",
    "\n",
    "cleaned_relationships.show()"
   ]
  },
  {
   "cell_type": "markdown",
   "metadata": {},
   "source": [
    "> Nhận xét:\n",
    "> * Sẽ có một vài trường dữ liệu mà ta cần quan tâm là như sau:\n",
    ">   * `src`: mã sân bay xuất phát.\n",
    ">   * `dst`: mã sân bay đến.\n",
    ">   * `deptDelay`: còn gọi là **departure delay**, thời gian delay ở sân bay khởi hành.\n",
    ">   * `arrDelay`: còn gọi là **arrival delay**, thời gian delay ở sân bay đến.\n",
    ">   * `airline`: mã chuyến bay, vì giữa hai sân bay sẽ có thể có nhiều hãng hàng thông vận tải trên chuyến bay đó hoặc chuyến bay này phục vụ cho các mục đích khác nhau, nên ta cần mã này."
   ]
  },
  {
   "cell_type": "markdown",
   "metadata": {},
   "source": [
    "* Bây giờ, ta tạo `GraphFrame` từ tập dữ liệu chứa các thông tin về sân bay và chuyến bay lần lượt từ `@cleaned_nodes` và `@cleaned_relationships`."
   ]
  },
  {
   "cell_type": "code",
   "execution_count": 8,
   "metadata": {},
   "outputs": [],
   "source": [
    "g = GraphFrame(cleaned_nodes, cleaned_relationships)"
   ]
  },
  {
   "cell_type": "markdown",
   "metadata": {},
   "source": [
    "* Tiếp theo, nhóm tải tập dữ liệu chứa thông tin các **hãng hàng không** cùng **id** tương ứng của hãng đó."
   ]
  },
  {
   "cell_type": "code",
   "execution_count": 9,
   "metadata": {},
   "outputs": [
    {
     "name": "stdout",
     "output_type": "stream",
     "text": [
      "+--------------------+----+\n",
      "|                name|code|\n",
      "+--------------------+----+\n",
      "|             Unknown|   -|\n",
      "|      Private flight|   -|\n",
      "|       1Time Airline|  1T|\n",
      "|         40-Mile Air|  Q5|\n",
      "|    Ansett Australia|  AN|\n",
      "|Abacus International|  1B|\n",
      "|     Abelag Aviation|  W9|\n",
      "|          Aigle Azur|  ZI|\n",
      "|      Aloha Airlines|  AQ|\n",
      "|   American Airlines|  AA|\n",
      "|     Asiana Airlines|  OZ|\n",
      "|     Askari Aviation|  4K|\n",
      "|   Afriqiyah Airways|  8U|\n",
      "|Afrinat Internati...|  Q9|\n",
      "|       Allegiant Air|  G4|\n",
      "|            Aban Air|  K5|\n",
      "|ABSA - Aerolinhas...|  M3|\n",
      "|          Antrak Air|  04|\n",
      "|    Airborne Express|  GB|\n",
      "|             ABX Air|  GB|\n",
      "+--------------------+----+\n",
      "only showing top 20 rows\n",
      "\n"
     ]
    }
   ],
   "source": [
    "airlines_reference = (spark.read.csv(\"data/airlines.csv\").select(\"_c1\", \"_c3\")\n",
    "                                .withColumnRenamed(\"_c1\", \"name\")\n",
    "                                .withColumnRenamed(\"_c3\", \"code\"))\n",
    "airlines_reference = airlines_reference[airlines_reference[\"code\"] != \"null\"]\n",
    "\n",
    "airlines_reference.show()"
   ]
  },
  {
   "cell_type": "markdown",
   "metadata": {},
   "source": [
    "* Tiếp theo, nhóm có thể tìm hiểu sơ bộ về tập dữ liệu này qua biến `@g`, ta có thể biết là Hoa Kỳ có tổng cộng bao nhiêu sân bay vào thời điểm tháng 5 năm 2018."
   ]
  },
  {
   "cell_type": "code",
   "execution_count": 10,
   "metadata": {},
   "outputs": [
    {
     "data": {
      "text/plain": [
       "1333"
      ]
     },
     "execution_count": 10,
     "metadata": {},
     "output_type": "execute_result"
    }
   ],
   "source": [
    "g.vertices.count()"
   ]
  },
  {
   "cell_type": "markdown",
   "metadata": {},
   "source": [
    "> Nhận xét:\n",
    "> * Ở thởi điểm tháng 5 năm 2018, ở Hoa Kỳ có khoảng 1333 sân bay."
   ]
  },
  {
   "cell_type": "markdown",
   "metadata": {},
   "source": [
    "* Mã dưới đây, nhóm tiến hành thông kê xem có bao nhiêu đường bay nối giữa các sân bay."
   ]
  },
  {
   "cell_type": "code",
   "execution_count": 11,
   "metadata": {},
   "outputs": [
    {
     "name": "stderr",
     "output_type": "stream",
     "text": [
      "                                                                                \r"
     ]
    },
    {
     "data": {
      "text/plain": [
       "616529"
      ]
     },
     "execution_count": 11,
     "metadata": {},
     "output_type": "execute_result"
    }
   ],
   "source": [
    "g.edges.count()"
   ]
  },
  {
   "cell_type": "markdown",
   "metadata": {},
   "source": [
    "> Nhận xét:\n",
    "> * Vào thời điểm tháng 5 năm 2018, Hoa Kỳ có khoảng 616529 đường bay đang (hoặc tạm dừng) hoạt động."
   ]
  },
  {
   "cell_type": "markdown",
   "metadata": {},
   "source": [
    "* Tiếp theo, nhóm cũng muốn biết là \"sân bay nào có nhiều chuyến bay xuất phát nhất\". Đây chính là lúc ta sử dụng thuật toán **Degree Centrality**.\n",
    "* Mã dưới đây giúp ta tính toán số bậc ngoài (tức số chuyến bay xuất phát) của từng sân bay."
   ]
  },
  {
   "cell_type": "code",
   "execution_count": 12,
   "metadata": {},
   "outputs": [],
   "source": [
    "airports_degree = g.outDegrees.withColumnRenamed(\"id\", \"oId\")"
   ]
  },
  {
   "cell_type": "code",
   "execution_count": 13,
   "metadata": {},
   "outputs": [
    {
     "name": "stderr",
     "output_type": "stream",
     "text": [
      "                                                                                \r"
     ]
    },
    {
     "name": "stdout",
     "output_type": "stream",
     "text": [
      "+---+---------+\n",
      "|oId|outDegree|\n",
      "+---+---------+\n",
      "|BGM|       88|\n",
      "|PSE|       62|\n",
      "|INL|       51|\n",
      "|MSY|     4957|\n",
      "|PPG|        9|\n",
      "|GEG|     1066|\n",
      "|SNA|     3565|\n",
      "|BUR|     2298|\n",
      "|GRB|      431|\n",
      "|GTF|      136|\n",
      "+---+---------+\n",
      "only showing top 10 rows\n",
      "\n"
     ]
    }
   ],
   "source": [
    "airports_degree.show(10)"
   ]
  },
  {
   "cell_type": "code",
   "execution_count": 14,
   "metadata": {},
   "outputs": [
    {
     "name": "stderr",
     "output_type": "stream",
     "text": [
      "[Stage 17:===================================================>    (11 + 1) / 12]\r"
     ]
    },
    {
     "name": "stdout",
     "output_type": "stream",
     "text": [
      "+---+------------------------------------------------+---------+\n",
      "|id |name                                            |outDegree|\n",
      "+---+------------------------------------------------+---------+\n",
      "|ATL|Hartsfield Jackson Atlanta International Airport|33837    |\n",
      "|ORD|Chicago O'Hare International Airport            |28338    |\n",
      "|DFW|Dallas Fort Worth International Airport         |23765    |\n",
      "|CLT|Charlotte Douglas International Airport         |20251    |\n",
      "|DEN|Denver International Airport                    |19836    |\n",
      "|LAX|Los Angeles International Airport               |19059    |\n",
      "|PHX|Phoenix Sky Harbor International Airport        |15103    |\n",
      "|SFO|San Francisco International Airport             |14934    |\n",
      "|LGA|La Guardia Airport                              |14709    |\n",
      "|IAH|George Bush Intercontinental Houston Airport    |14407    |\n",
      "+---+------------------------------------------------+---------+\n",
      "only showing top 10 rows\n",
      "\n"
     ]
    },
    {
     "name": "stderr",
     "output_type": "stream",
     "text": [
      "                                                                                \r"
     ]
    }
   ],
   "source": [
    "full_airports_degree = (airports_degree\n",
    "                        .join(g.vertices, airports_degree.oId == g.vertices.id)\n",
    "                        .sort(\"outDegree\", ascending=False)\n",
    "                        .select(\"id\", \"name\", \"outDegree\"))\n",
    "\n",
    "full_airports_degree.show(n=10, truncate=False)"
   ]
  },
  {
   "cell_type": "code",
   "execution_count": 15,
   "metadata": {},
   "outputs": [
    {
     "name": "stderr",
     "output_type": "stream",
     "text": [
      "                                                                                \r"
     ]
    },
    {
     "data": {
      "image/png": "[encoded data removed]",
      "text/plain": [
       "<Figure size 432x288 with 1 Axes>"
      ]
     },
     "metadata": {
      "needs_background": "light"
     },
     "output_type": "display_data"
    }
   ],
   "source": [
    "ax = (full_airports_degree\n",
    "      .toPandas()\n",
    "      .head(10)\n",
    "      .plot(kind='bar', x='id', y='outDegree', legend=None))\n",
    "\n",
    "ax.xaxis.set_label_text(\"\")\n",
    "\n",
    "plt.xticks(rotation=45)\n",
    "plt.tight_layout()\n",
    "plt.show()"
   ]
  },
  {
   "cell_type": "markdown",
   "metadata": {},
   "source": [
    "> Nhận xét:\n",
    "> * Bên trên là 10 hãng hàng không mà có số chuyên bay xuất phát nhiều nhất vào thời điểm tháng 5 năm 2018 tại Hoa Kỳ.\n",
    "> * Các sân bay như CLT, DEN,... có số lượng chuyển bay giảm **đột ngột** so với sân bay ALT."
   ]
  },
  {
   "cell_type": "markdown",
   "metadata": {},
   "source": [
    "* Nhóm cũng có thể xem các chuyến bay xuất phát từ sân bay **ORD** và bị delay, được nhóm theo sân bay đến.\n",
    "* Nhóm tính thời gian delay trung bình trên cột `averageDelay` (tính theo phút).\n",
    "* Thời gian delay trung bình trên được tính dựa trên `numberOfDelays`, `numberOfDelays` là số chuyến bay bị delay."
   ]
  },
  {
   "cell_type": "code",
   "execution_count": 16,
   "metadata": {},
   "outputs": [
    {
     "name": "stderr",
     "output_type": "stream",
     "text": [
      "[Stage 26:==========================================>              (9 + 3) / 12]\r"
     ]
    },
    {
     "name": "stdout",
     "output_type": "stream",
     "text": [
      "+---+-------------------------------------------+------------+--------------+\n",
      "|dst|name                                       |averageDelay|numberOfDelays|\n",
      "+---+-------------------------------------------+------------+--------------+\n",
      "|CKB|North Central West Virginia Airport        |145.08      |12            |\n",
      "|OGG|Kahului Airport                            |119.67      |9             |\n",
      "|MQT|Sawyer International Airport               |114.75      |12            |\n",
      "|MOB|Mobile Regional Airport                    |102.2       |10            |\n",
      "|TTN|Trenton Mercer Airport                     |101.18      |17            |\n",
      "|AVL|Asheville Regional Airport                 |98.5        |28            |\n",
      "|ISP|Long Island Mac Arthur Airport             |94.08       |13            |\n",
      "|ANC|Ted Stevens Anchorage International Airport|83.74       |23            |\n",
      "|BTV|Burlington International Airport           |83.2        |25            |\n",
      "|CMX|Houghton County Memorial Airport           |79.18       |17            |\n",
      "+---+-------------------------------------------+------------+--------------+\n",
      "only showing top 10 rows\n",
      "\n"
     ]
    },
    {
     "name": "stderr",
     "output_type": "stream",
     "text": [
      "                                                                                \r"
     ]
    }
   ],
   "source": [
    "delayed_flights = (g.edges.filter(\"src = 'ORD' and deptDelay > 0\")\n",
    "                   .groupBy(\"dst\")\n",
    "                   .agg(F.avg(\"deptDelay\"), F.count(\"deptDelay\"))\n",
    "                   .withColumn(\"averageDelay\", F.round(F.col(\"avg(deptDelay)\"), 2))\n",
    "                   .withColumn(\"numberOfDelays\", F.col(\"count(deptDelay)\")))\n",
    "\n",
    "(delayed_flights.join(g.vertices, delayed_flights.dst == g.vertices.id)\n",
    "    .sort(F.desc(\"averageDelay\"))\n",
    "    .select(\"dst\", \"name\", \"averageDelay\", \"numberOfDelays\")\n",
    "    .show(n=10, truncate=False))"
   ]
  },
  {
   "cell_type": "markdown",
   "metadata": {},
   "source": [
    "> Nhận xét:\n",
    "> * Có đến hơn 2 tiếng delay trung bình cho các chuyến bay xuất phát từ sân bay **ORD** đến **CKB**, ta có thể lợi dụng thuật toán **BFS** của Spark để xem các số liệu từ đó suy ra điều gì xảy ra với các chuyến bay này."
   ]
  },
  {
   "cell_type": "markdown",
   "metadata": {},
   "source": [
    "* Ở đây, nhóm xem xét các chuyến bay xuất phát từ sân bay **ORD** đến sân bay **CKB**.\n",
    "* Thuật toán **BFS** nằm trong các thuất toán build-in methods được hỗ trợ bởi Spark."
   ]
  },
  {
   "cell_type": "code",
   "execution_count": 17,
   "metadata": {},
   "outputs": [
    {
     "name": "stderr",
     "output_type": "stream",
     "text": [
      "                                                                                \r"
     ]
    },
    {
     "name": "stdout",
     "output_type": "stream",
     "text": [
      "+----------+----+------------+---------+\n",
      "|      date|time|flightNumber|deptDelay|\n",
      "+----------+----+------------+---------+\n",
      "|2018-05-01|1645|        5066|     43.0|\n",
      "|2018-05-02|1645|        5066|    881.0|\n",
      "|2018-05-03|1645|        5066|     -6.0|\n",
      "|2018-05-16|1645|        5066|     20.0|\n",
      "|2018-05-17|1645|        5066|     -6.0|\n",
      "|2018-05-18|1645|        5066|     30.0|\n",
      "|2018-05-27|1645|        5066|     -4.0|\n",
      "|2018-05-28|1645|        5066|     48.0|\n",
      "|2018-05-29|1645|        5066|     -1.0|\n",
      "|2018-05-30|1645|        5066|    237.0|\n",
      "|2018-05-04|1645|        5066|      0.0|\n",
      "|2018-05-05|1645|        5066|    -10.0|\n",
      "|2018-05-06|1645|        5066|     -7.0|\n",
      "|2018-05-07|1645|        5066|     -8.0|\n",
      "|2018-05-23|1645|        5066|     -3.0|\n",
      "|2018-05-24|1645|        5066|    -11.0|\n",
      "|2018-05-25|1645|        5066|      0.0|\n",
      "|2018-05-26|1645|        5066|     -5.0|\n",
      "|2018-05-08|1645|        5066|     -4.0|\n",
      "|2018-05-09|1645|        5066|     -4.0|\n",
      "+----------+----+------------+---------+\n",
      "only showing top 20 rows\n",
      "\n"
     ]
    },
    {
     "name": "stderr",
     "output_type": "stream",
     "text": [
      "                                                                                \r"
     ]
    }
   ],
   "source": [
    "from_expr = 'id = \"ORD\"'\n",
    "to_expr = 'id = \"CKB\"'\n",
    "ord_to_ckb = g.bfs(from_expr, to_expr)\n",
    "\n",
    "ord_to_ckb = ord_to_ckb.select(F.col(\"e0.date\"),\n",
    "                               F.col(\"e0.time\"),\n",
    "                               F.col(\"e0.flightNumber\"),\n",
    "                               F.col(\"e0.deptDelay\"))\n",
    "\n",
    "ord_to_ckb.show()"
   ]
  },
  {
   "cell_type": "code",
   "execution_count": 18,
   "metadata": {},
   "outputs": [
    {
     "name": "stderr",
     "output_type": "stream",
     "text": [
      "                                                                                \r"
     ]
    },
    {
     "data": {
      "image/png": "[encoded data removed]",
      "text/plain": [
       "<Figure size 432x288 with 1 Axes>"
      ]
     },
     "metadata": {
      "needs_background": "light"
     },
     "output_type": "display_data"
    }
   ],
   "source": [
    "ax = (ord_to_ckb.sort(\"date\")\n",
    "      .toPandas()\n",
    "      .plot(kind='bar', x='date', y='deptDelay', legend=None))\n",
    "\n",
    "ax.xaxis.set_label_text(\"\")\n",
    "plt.show()"
   ]
  },
  {
   "cell_type": "markdown",
   "metadata": {},
   "source": [
    "> Nhận xét:\n",
    "> * Ở đây, ta thấy có chuyến bay vào ngày 02/05/2018 xuất phát trễ đến 14 tiếng so với dự kiến.\n",
    "> * Có đến gần một nữa số chuyến bat từ **ORD** đến **CKB** mà bị delay so với dự kiến.\n",
    "> * Lí giải cho sự chậm trễ này trong ngành hàng không thì rất có thể do vấn đề về thời tiết."
   ]
  },
  {
   "cell_type": "markdown",
   "metadata": {},
   "source": [
    "* Tiếp theo, nhóm sẽ tìm các chuyến bay bị delay khi xuất phát hoặc hạ cánh tại sân bay **SFO**. Giả sử bạn bay từ Việt Nam sang Ba Lan thì bạn bắt buộc phải hạ cánh ở sân bay Singapore để máy bay nạp nhiên liệu rồi mới bay tiếp (hãng hàng không Vietnam Airline).\n",
    "* Các chuyến bay mà nhóm quan tâm:\n",
    "  *  Được xuất phát hoặc hạ cánh từ sân bay **SFO**.\n",
    "  *  Chỉ tính các chuyến bay trong ngày 11/05/2018.\n",
    "  *  Thời gian delay khi xuất phát tại sân bay **SFO** phải hơn 30 phút.\n",
    "  *  Thời gian delay khi hạ canh tại sân bay **SFO** phải hơn 30 phút.\n",
    "* Để làm được các truy vấn bao gồm nhiều điều kiện như vậy, Spark-DataFrame hỗ trợ cơ chế tìm kiếm theo [**motif**](https://graphframes.github.io/graphframes/docs/_site/user-guide.html#motif-finding).\n",
    "* Dưới đây là mã cho mục đích trên."
   ]
  },
  {
   "cell_type": "code",
   "execution_count": 19,
   "metadata": {},
   "outputs": [],
   "source": [
    "motifs = (g.find(\"(a)-[ab]->(b); (b)-[bc]->(c)\")\n",
    "          .filter(\"\"\"(b.id = 'SFO') and\n",
    "                     (ab.date = '2018-05-11' and bc.date = '2018-05-11') and\n",
    "                     (ab.arrDelay > 30 or bc.deptDelay > 30) and\n",
    "                     (ab.flightNumber = bc.flightNumber) and\n",
    "                     (ab.airline = bc.airline) and\n",
    "                     (ab.time < bc.time)\"\"\"))\n",
    "\n",
    "result = (motifs.withColumn(\"delta\", motifs.bc.deptDelay - motifs.ab.arrDelay)\n",
    "                .select(\"ab\", \"bc\", \"delta\")\n",
    "                .sort(\"delta\", ascending=False))"
   ]
  },
  {
   "cell_type": "code",
   "execution_count": 20,
   "metadata": {},
   "outputs": [
    {
     "name": "stderr",
     "output_type": "stream",
     "text": [
      "[Stage 50:>                                                       (0 + 12) / 12]\r"
     ]
    },
    {
     "name": "stdout",
     "output_type": "stream",
     "text": [
      "+---+----------+--------+---+----------+---------+---+-------+------------+-----+\n",
      "| a1|a1DeptTime|arrDelay| a2|a2DeptTime|deptDelay| a3|airline|flightNumber|delta|\n",
      "+---+----------+--------+---+----------+---------+---+-------+------------+-----+\n",
      "|PDX|      1130|   -18.0|SFO|      1350|    178.0|BUR|     WN|        1454|196.0|\n",
      "|ACV|      1755|    -9.0|SFO|      2235|     64.0|RDM|     OO|        5700| 73.0|\n",
      "|BWI|       700|    -3.0|SFO|      1125|     49.0|IAD|     UA|         753| 52.0|\n",
      "|ATL|       740|    40.0|SFO|      1110|     77.0|SAN|     UA|        1900| 37.0|\n",
      "|BUR|      1405|    25.0|SFO|      1600|     39.0|PDX|     WN|         157| 14.0|\n",
      "|DTW|       835|    34.0|SFO|      1135|     44.0|DTW|     DL|         745| 10.0|\n",
      "|DEN|      1830|    25.0|SFO|      2045|     33.0|BUR|     WN|        1783|  8.0|\n",
      "|PDX|      1855|   119.0|SFO|      2120|    117.0|DEN|     WN|        5789| -2.0|\n",
      "|BUR|      2025|    31.0|SFO|      2230|     11.0|PHX|     WN|        1585|-20.0|\n",
      "+---+----------+--------+---+----------+---------+---+-------+------------+-----+\n",
      "\n"
     ]
    },
    {
     "name": "stderr",
     "output_type": "stream",
     "text": [
      "                                                                                \r"
     ]
    }
   ],
   "source": [
    "result.select(F.col(\"ab.src\").alias(\"a1\"),\n",
    "              F.col(\"ab.time\").alias(\"a1DeptTime\"),\n",
    "              F.col(\"ab.arrDelay\"),\n",
    "              F.col(\"ab.dst\").alias(\"a2\"),\n",
    "              F.col(\"bc.time\").alias(\"a2DeptTime\"),\n",
    "              F.col(\"bc.deptDelay\"),\n",
    "              F.col(\"bc.dst\").alias(\"a3\"),\n",
    "              F.col(\"ab.airline\"),\n",
    "              F.col(\"ab.flightNumber\"),\n",
    "              F.col(\"delta\")).show()"
   ]
  },
  {
   "cell_type": "markdown",
   "metadata": {},
   "source": [
    "> Nhận xét:\n",
    "> * Bảng trên thể hiện các chuyên bay đi từ sân bay `@a1` đến sân bay `@a3` và dừng chân giữa chừng tại sân bay **SFO** (tức `@a2`).\n",
    "> * Ở đây, ta hãy nhìn vào dòng đầu tiên, chuyên bay có mã **WN** - chuyến bay này xuất phát từ sân bay **PDX** và hạ cánh lần đầu ở sân bay **SFO** sớm hơn dự kiến 18 phút nhưng lại khởi hành tới sân bay đích là **BUR** trễ đến 3 tiếng."
   ]
  },
  {
   "cell_type": "markdown",
   "metadata": {},
   "source": [
    "* Tiếp theo, nhóm sẽ tiến hành đếm số chuyến bay mà mỗi hãng hàng không đang kinh doanh."
   ]
  },
  {
   "cell_type": "code",
   "execution_count": 21,
   "metadata": {},
   "outputs": [
    {
     "name": "stderr",
     "output_type": "stream",
     "text": [
      "[Stage 53:=======================>                                 (5 + 7) / 12]\r"
     ]
    },
    {
     "name": "stdout",
     "output_type": "stream",
     "text": [
      "+----+---------------------------+-------+\n",
      "|code|name                       |flights|\n",
      "+----+---------------------------+-------+\n",
      "|WN  |Southwest Airlines         |116849 |\n",
      "|DL  |Delta Air Lines            |81735  |\n",
      "|AA  |American Airlines          |77957  |\n",
      "|OO  |SkyWest                    |65157  |\n",
      "|UA  |United Airlines            |52816  |\n",
      "|YX  |Midwest Airlines           |27398  |\n",
      "|B6  |JetBlue Airways            |26513  |\n",
      "|MQ  |American Eagle Airlines    |25364  |\n",
      "|OH  |Comair                     |23869  |\n",
      "|AS  |Alaska Airlines            |22974  |\n",
      "|9E  |Pinnacle Airlines          |21097  |\n",
      "|YV  |Mesa Airlines              |17866  |\n",
      "|EV  |Atlantic Southeast Airlines|16661  |\n",
      "|NK  |Spirit Airlines            |14889  |\n",
      "|F9  |Frontier Airlines          |10297  |\n",
      "|G4  |Allegiant Air              |8033   |\n",
      "|HA  |Hawaiian Airlines          |7054   |\n",
      "+----+---------------------------+-------+\n",
      "\n"
     ]
    },
    {
     "name": "stderr",
     "output_type": "stream",
     "text": [
      "                                                                                \r"
     ]
    }
   ],
   "source": [
    "airlines = (g.edges\n",
    "            .groupBy(\"airline\")\n",
    "            .agg(F.count(\"airline\").alias(\"flights\"))\n",
    "            .sort(\"flights\", ascending=False))\n",
    "\n",
    "full_name_airlines = (airlines\n",
    "                      .join(airlines_reference, airlines.airline == airlines_reference.code)\n",
    "                      .select(\"code\", \"name\", \"flights\")\n",
    "                      .sort(\"flights\", ascending=False))\n",
    "\n",
    "full_name_airlines.show(truncate=False)"
   ]
  },
  {
   "cell_type": "code",
   "execution_count": 22,
   "metadata": {},
   "outputs": [
    {
     "data": {
      "image/png": "[encoded data removed]",
      "text/plain": [
       "<Figure size 432x288 with 1 Axes>"
      ]
     },
     "metadata": {
      "needs_background": "light"
     },
     "output_type": "display_data"
    }
   ],
   "source": [
    "ax = (full_name_airlines.toPandas()\n",
    "      .plot(kind='bar', x='name', y='flights', legend=None))\n",
    "\n",
    "ax.xaxis.set_label_text(\"\")\n",
    "plt.tight_layout()\n",
    "plt.show()"
   ]
  },
  {
   "cell_type": "markdown",
   "metadata": {},
   "source": [
    "> Nhận xét:\n",
    "> * Ta thấy rằng hãng hàng không **Southwest Airlines** là một **ông lớn** đúng nghĩa của Hoa Kỳ vào năm 2018 với chỉ trong tháng 5 mà họ có đến hơn 100000 ngàn chuyến bay. Như vậy trung bình 1 ngày họ có đến hơn 3333 ngàn chuyến bay.\n",
    "> * Còn đây là số chuyến bay trong 1 ngaỳ được nhóm tìm kiếm nhằm kiểm chứng lại (search vào ngày 15/01/2022)\n",
    ">   ![](./images/01.png)"
   ]
  },
  {
   "cell_type": "markdown",
   "metadata": {},
   "source": [
    "* Tiếp theo, ta dùng thuật toán **Strongly Connected Components** để tìm ra các sân bay mà họ **chơi thân** với nhau.\n",
    "* Các sân bay **chơi thân** với nhau sẽ tạo thành một **nhóm các sân bay** mà mỗi sân bay trong nhóm này đều có ít nhất 1 đường đi đến các sân bay còn lại trong nhóm."
   ]
  },
  {
   "cell_type": "code",
   "execution_count": 23,
   "metadata": {},
   "outputs": [],
   "source": [
    "def find_scc_components(g, airline):\n",
    "    # tạo ra một đồ thị con mà các chuyến bay được cung cấp bởi \n",
    "    # hãng bay @airline, sau đó tạo đồ thị mới\n",
    "    airline_relationships = g.edges[g.edges.airline == airline]\n",
    "    airline_graph = GraphFrame(g.vertices, airline_relationships)\n",
    "\n",
    "    # tính toán Strongly Connected Components bằng Spark build-in method \n",
    "    scc = airline_graph.stronglyConnectedComponents(maxIter=10)\n",
    "\n",
    "    # trả về số sân bay cung cấp các chuyến bay bay đến\n",
    "    # sân bay @airline (được lưu vào `size`)\n",
    "    return (scc\n",
    "        .groupBy(\"component\")\n",
    "        .agg(F.count(\"id\").alias(\"size\"))\n",
    "        .sort(\"size\", ascending=False)\n",
    "        .take(1)[0][\"size\"])"
   ]
  },
  {
   "cell_type": "code",
   "execution_count": 24,
   "metadata": {},
   "outputs": [
    {
     "name": "stderr",
     "output_type": "stream",
     "text": [
      "22/01/23 08:43:18 WARN CacheManager: Asked to cache already cached data.        \n",
      "22/01/23 08:43:30 WARN CacheManager: Asked to cache already cached data.        \n",
      "22/01/23 08:43:40 WARN CacheManager: Asked to cache already cached data.        \n",
      "22/01/23 08:43:50 WARN CacheManager: Asked to cache already cached data.        \n",
      "22/01/23 08:43:54 WARN BlockManager: Block rdd_2150_6 already exists on this machine; not re-adding it\n",
      "22/01/23 08:44:00 WARN CacheManager: Asked to cache already cached data.\n",
      "22/01/23 08:44:09 WARN CacheManager: Asked to cache already cached data.        \n",
      "22/01/23 08:44:18 WARN CacheManager: Asked to cache already cached data.        \n",
      "22/01/23 08:44:27 WARN CacheManager: Asked to cache already cached data.        \n",
      "22/01/23 08:44:34 WARN BlockManager: Block rdd_4266_5 already exists on this machine; not re-adding it\n",
      "22/01/23 08:44:36 WARN CacheManager: Asked to cache already cached data.\n",
      "22/01/23 08:44:45 WARN CacheManager: Asked to cache already cached data.        \n",
      "22/01/23 08:44:54 WARN CacheManager: Asked to cache already cached data.        \n",
      "22/01/23 08:45:03 WARN CacheManager: Asked to cache already cached data.        \n",
      "22/01/23 08:45:12 WARN CacheManager: Asked to cache already cached data.        \n",
      "22/01/23 08:45:21 WARN CacheManager: Asked to cache already cached data.        \n",
      "22/01/23 08:45:31 WARN CacheManager: Asked to cache already cached data.        \n",
      "22/01/23 08:45:40 WARN CacheManager: Asked to cache already cached data.        \n",
      "[Stage 13776:=================================================> (193 + 7) / 200]\r"
     ]
    },
    {
     "name": "stdout",
     "output_type": "stream",
     "text": [
      "+----+---------------------------+-------+--------+\n",
      "|code|name                       |flights|sccCount|\n",
      "+----+---------------------------+-------+--------+\n",
      "|OO  |SkyWest                    |65157  |221     |\n",
      "|DL  |Delta Air Lines            |81735  |142     |\n",
      "|MQ  |American Eagle Airlines    |25364  |124     |\n",
      "|G4  |Allegiant Air              |8033   |114     |\n",
      "|EV  |Atlantic Southeast Airlines|16661  |102     |\n",
      "|9E  |Pinnacle Airlines          |21097  |98      |\n",
      "|UA  |United Airlines            |52816  |94      |\n",
      "|OH  |Comair                     |23869  |93      |\n",
      "|AA  |American Airlines          |77957  |91      |\n",
      "|YV  |Mesa Airlines              |17866  |91      |\n",
      "|WN  |Southwest Airlines         |116849 |85      |\n",
      "|YX  |Midwest Airlines           |27398  |83      |\n",
      "|F9  |Frontier Airlines          |10297  |76      |\n",
      "|AS  |Alaska Airlines            |22974  |70      |\n",
      "|B6  |JetBlue Airways            |26513  |64      |\n",
      "|NK  |Spirit Airlines            |14889  |37      |\n",
      "|HA  |Hawaiian Airlines          |7054   |16      |\n",
      "+----+---------------------------+-------+--------+\n",
      "\n"
     ]
    },
    {
     "name": "stderr",
     "output_type": "stream",
     "text": [
      "                                                                                \r"
     ]
    }
   ],
   "source": [
    "airline_scc = [(airline, find_scc_components(g, airline)) for airline in \n",
    "               airlines.toPandas()[\"airline\"].tolist()]\n",
    "airline_scc_df = spark.createDataFrame(airline_scc, ['id', 'sccCount'])\n",
    "\n",
    "airline_reach = (airline_scc_df\n",
    "                 .join(full_name_airlines, full_name_airlines.code == airline_scc_df.id)\n",
    "                 .select(\"code\", \"name\", \"flights\", \"sccCount\")\n",
    "                 .sort(\"sccCount\", ascending=False))\n",
    "\n",
    "airline_reach.show(truncate=False)"
   ]
  },
  {
   "cell_type": "code",
   "execution_count": 25,
   "metadata": {},
   "outputs": [
    {
     "name": "stderr",
     "output_type": "stream",
     "text": [
      "                                                                                \r"
     ]
    },
    {
     "data": {
      "image/png": "[encoded data removed]",
      "text/plain": [
       "<Figure size 432x288 with 1 Axes>"
      ]
     },
     "metadata": {
      "needs_background": "light"
     },
     "output_type": "display_data"
    }
   ],
   "source": [
    "ax = (airline_reach.toPandas().plot(kind='bar', x='name', y='sccCount', legend=None))\n",
    "ax.xaxis.set_label_text(\"\")\n",
    "plt.tight_layout()\n",
    "plt.show()"
   ]
  },
  {
   "cell_type": "markdown",
   "metadata": {},
   "source": [
    "> Nhận xét:\n",
    "> * Sân bay **SkyWest** có đến hơn 200 đường bay được kết nối chặt chẽ đến các sân bay khác mặc dù cũng trong tháng 05/2018 họ chỉ kinh doanh hơn 65000 chuyến bay.\n",
    "> * Ngược lại, **Southwest Airline** dù họ khai thác hơn 100000 chuyến bay chỉ trong tháng 5 nhưng họ chỉ có 85 sân bay khác là thân tín với họ.\n",
    "> * Điều này có thể thể hiện được tư tưởng kinh doanh khác nhau giữa **SkyWest** khi họ thích kinh doanh và quan tâm với sự hợp tác với các đối tác khác còn **Southwest Airline** họ chú tâm hơn vào phát triển dịch vụ và số chuyến bay mà họ có thể khai thác được."
   ]
  },
  {
   "cell_type": "markdown",
   "metadata": {},
   "source": [
    "* Giả sử bây giờ, ta chỉ quan tâm vào các chuyến bay của hãng **DL**, và ta muốn biết xem họ thường phân bố các chuyến bay của họ như thế nào. Lúc này ta có thể sử dụng thuật toán LPA - một thuất toán học bán giám sát để làm điều này.\n",
    "* Mã dưới đây, ta sẽ tạo ra một đồ thị mới mà chỉ chứa các chuyến bay của hãng **DL**. Sau đó tiến hành sử dụng LPA để tìm ra các nhóm (cộng đồng) dựa vào các chuyến bay (tức relationships) có chung đặc điểm."
   ]
  },
  {
   "cell_type": "code",
   "execution_count": 26,
   "metadata": {},
   "outputs": [
    {
     "name": "stderr",
     "output_type": "stream",
     "text": [
      "22/01/23 08:45:51 WARN CacheManager: Asked to cache already cached data.\n",
      "22/01/23 08:45:55 WARN BlockManager: Block rdd_8195_0 already exists on this machine; not re-adding it\n",
      "                                                                                \r"
     ]
    },
    {
     "name": "stdout",
     "output_type": "stream",
     "text": [
      "+-------------+----------------------------------------------------------------------+-----+\n",
      "|        label|                                                              airports|count|\n",
      "+-------------+----------------------------------------------------------------------+-----+\n",
      "|1606317768706|[IND, ORF, ATW, RIC, TRI, XNA, ECP, AVL, JAX, SYR, BHM, GSO, MEM, C...|   89|\n",
      "|1219770712067|[GEG, SLC, DTW, LAS, SEA, BOS, MSN, SNA, JFK, TVC, LIH, JAC, FLL, M...|   53|\n",
      "|  85899345921|                                                                 [EUG]|    1|\n",
      "|  85899345923|                                                                 [RAL]|    1|\n",
      "|  85899345922|                                                                 [PSG]|    1|\n",
      "| 103079215110|                                                                 [SNP]|    1|\n",
      "|  94489280512|                                                                 [ATY]|    1|\n",
      "|  94489280513|                                                                 [GYY]|    1|\n",
      "| 103079215107|                                                                 [ISO]|    1|\n",
      "| 111669149696|                                                                 [LRO]|    1|\n",
      "+-------------+----------------------------------------------------------------------+-----+\n",
      "only showing top 10 rows\n",
      "\n"
     ]
    }
   ],
   "source": [
    "airline_relationships = g.edges.filter(\"airline = 'DL'\")\n",
    "airline_graph = GraphFrame(g.vertices, airline_relationships)\n",
    "clusters = airline_graph.labelPropagation(maxIter=10)\n",
    "\n",
    "(clusters.sort(\"label\")\n",
    "        .groupby(\"label\")\n",
    "        .agg(F.collect_list(\"id\").alias(\"airports\"), F.count(\"id\").alias(\"count\"))\n",
    "        .sort(\"count\", ascending=False)\n",
    "        .show(truncate=70, n=10))"
   ]
  },
  {
   "cell_type": "markdown",
   "metadata": {},
   "source": [
    "> Nhận xét:\n",
    "> * Ta có thế thấy hầu hết các sân bay mà được hãng DL khai thác kinh doanh tập chung chủ yếu thành 2 nhóm.\n",
    "> * Chúng ta sẽ trực quan hóa để xem các nhóm này có chung đặc điểm gì với nhau."
   ]
  },
  {
   "cell_type": "code",
   "execution_count": 27,
   "metadata": {},
   "outputs": [],
   "source": [
    "all_flights = g.degrees.withColumnRenamed(\"id\", \"aId\")"
   ]
  },
  {
   "cell_type": "markdown",
   "metadata": {},
   "source": [
    "* Mã dưới đây ta sẽ lọc các sân bay thuộc nhóm 1 (tức có label là **\"1606317768706\"** được Spark tự động khởi tạo khi chạy thuật toán LPA)."
   ]
  },
  {
   "cell_type": "code",
   "execution_count": 28,
   "metadata": {},
   "outputs": [
    {
     "name": "stderr",
     "output_type": "stream",
     "text": [
      "                                                                                \r"
     ]
    },
    {
     "name": "stdout",
     "output_type": "stream",
     "text": [
      "+---+------------------------------------------------------------+------+\n",
      "|id |name                                                        |degree|\n",
      "+---+------------------------------------------------------------+------+\n",
      "|DFW|Dallas Fort Worth International Airport                     |47514 |\n",
      "|CLT|Charlotte Douglas International Airport                     |40495 |\n",
      "|IAH|George Bush Intercontinental Houston Airport                |28814 |\n",
      "|EWR|Newark Liberty International Airport                        |25131 |\n",
      "|PHL|Philadelphia International Airport                          |20804 |\n",
      "|BWI|Baltimore/Washington International Thurgood Marshall Airport|18989 |\n",
      "|MDW|Chicago Midway International Airport                        |15178 |\n",
      "|BNA|Nashville International Airport                             |12455 |\n",
      "|DAL|Dallas Love Field                                           |12084 |\n",
      "|IAD|Washington Dulles International Airport                     |11566 |\n",
      "|STL|Lambert St Louis International Airport                      |11439 |\n",
      "|HOU|William P Hobby Airport                                     |9742  |\n",
      "|IND|Indianapolis International Airport                          |8543  |\n",
      "|PIT|Pittsburgh International Airport                            |8410  |\n",
      "|CLE|Cleveland Hopkins International Airport                     |8238  |\n",
      "|CMH|Port Columbus International Airport                         |7640  |\n",
      "|SAT|San Antonio International Airport                           |6532  |\n",
      "|JAX|Jacksonville International Airport                          |5495  |\n",
      "|BDL|Bradley International Airport                               |4866  |\n",
      "|RSW|Southwest Florida International Airport                     |4569  |\n",
      "+---+------------------------------------------------------------+------+\n",
      "only showing top 20 rows\n",
      "\n"
     ]
    }
   ],
   "source": [
    "(clusters.filter(\"label=1606317768706\")\n",
    "            .join(all_flights, all_flights.aId == clusters.id)\n",
    "            .sort(\"degree\", ascending=False)\n",
    "            .select(\"id\", \"name\", \"degree\")\n",
    "            .show(truncate=False))"
   ]
  },
  {
   "cell_type": "markdown",
   "metadata": {},
   "source": [
    "* Trực quan hóa cho nhóm 1."
   ]
  },
  {
   "cell_type": "code",
   "execution_count": 29,
   "metadata": {},
   "outputs": [],
   "source": [
    "plotGraph(\"./data/latlongs-group1.csv\", \"group1\")"
   ]
  },
  {
   "cell_type": "markdown",
   "metadata": {},
   "source": [
    "![](./images/02.png)"
   ]
  },
  {
   "cell_type": "markdown",
   "metadata": {},
   "source": [
    "> Nhận xét:\n",
    "> * Ta thấy rằng, hãng **DL** tập trung khai thác các chuyến bay mà có sân bay khởi hành và sân bay đến nằm trong vùng phía đông của Hoa Kỳ, sau đó ít dần ở trung tâm Hoa Kỳ."
   ]
  },
  {
   "cell_type": "markdown",
   "metadata": {},
   "source": [
    "* Bây giờ ta sẽ xem xét các nhóm còn lại, tức nhóm 2."
   ]
  },
  {
   "cell_type": "code",
   "execution_count": 30,
   "metadata": {},
   "outputs": [
    {
     "name": "stderr",
     "output_type": "stream",
     "text": [
      "                                                                                \r"
     ]
    },
    {
     "name": "stdout",
     "output_type": "stream",
     "text": [
      "+---+----------------------------------------------------------+------+\n",
      "|id |name                                                      |degree|\n",
      "+---+----------------------------------------------------------+------+\n",
      "|ATL|Hartsfield Jackson Atlanta International Airport          |67672 |\n",
      "|ORD|Chicago O'Hare International Airport                      |56681 |\n",
      "|DEN|Denver International Airport                              |39671 |\n",
      "|LAX|Los Angeles International Airport                         |38116 |\n",
      "|PHX|Phoenix Sky Harbor International Airport                  |30206 |\n",
      "|SFO|San Francisco International Airport                       |29865 |\n",
      "|LGA|La Guardia Airport                                        |29416 |\n",
      "|LAS|McCarran International Airport                            |27801 |\n",
      "|DTW|Detroit Metropolitan Wayne County Airport                 |27477 |\n",
      "|MSP|Minneapolis-St Paul International/Wold-Chamberlain Airport|27163 |\n",
      "|BOS|General Edward Lawrence Logan International Airport       |26214 |\n",
      "|SEA|Seattle Tacoma International Airport                      |24098 |\n",
      "|MCO|Orlando International Airport                             |23442 |\n",
      "|JFK|John F Kennedy International Airport                      |22294 |\n",
      "|DCA|Ronald Reagan Washington National Airport                 |22244 |\n",
      "|SLC|Salt Lake City International Airport                      |18661 |\n",
      "|FLL|Fort Lauderdale Hollywood International Airport           |16364 |\n",
      "|SAN|San Diego International Airport                           |15401 |\n",
      "|MIA|Miami International Airport                               |14869 |\n",
      "|TPA|Tampa International Airport                               |12509 |\n",
      "+---+----------------------------------------------------------+------+\n",
      "only showing top 20 rows\n",
      "\n"
     ]
    }
   ],
   "source": [
    "(clusters.filter(\"label=1219770712067\")\n",
    "            .join(all_flights, all_flights.aId == clusters.id)\n",
    "            .sort(\"degree\", ascending=False)\n",
    "            .select(\"id\", \"name\", \"degree\")\n",
    "            .show(truncate=False))"
   ]
  },
  {
   "cell_type": "markdown",
   "metadata": {},
   "source": [
    "* Trực quan hóa cho nhóm 2."
   ]
  },
  {
   "cell_type": "code",
   "execution_count": 31,
   "metadata": {},
   "outputs": [],
   "source": [
    "plotGraph(\"./data/latlongs-group2.csv\", \"group2\")"
   ]
  },
  {
   "cell_type": "markdown",
   "metadata": {},
   "source": [
    "![](./images/03.png)"
   ]
  },
  {
   "cell_type": "markdown",
   "metadata": {},
   "source": [
    "> Nhận xét:\n",
    "> * Ở nhóm thứ hai, ta thấy DL tập trung khai thác các sân bay nằm ở rìa bắc của Hoa Kỳ sau đó rãi rác dần xuống.\n",
    "> * Ngoài ra, ta còn thấy các sân bay khác nằm ngoài lãnh thổ Hoa Kỳ, có khả năng các sân bay nằm ở phía nam Hoa Kỳ vẫn tồn tại là vì mục đích di chuyển đến các sân bay nằm ngoài Hoa Kỳ này."
   ]
  },
  {
   "cell_type": "markdown",
   "metadata": {},
   "source": []
  }
 ],
 "metadata": {
  "interpreter": {
   "hash": "8d9af65d782dbd37fec13b95660a3f96d11b2648e2cfc799a970c340749ecbb7"
  },
  "kernelspec": {
   "display_name": "Python 3",
   "language": "python",
   "name": "python3"
  },
  "language_info": {
   "codemirror_mode": {
    "name": "ipython",
    "version": 3
   },
   "file_extension": ".py",
   "mimetype": "text/x-python",
   "name": "python",
   "nbconvert_exporter": "python",
   "pygments_lexer": "ipython3",
   "version": "3.6.8"
  }
 },
 "nbformat": 4,
 "nbformat_minor": 2
}
